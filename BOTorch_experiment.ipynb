{
 "cells": [
  {
   "cell_type": "markdown",
   "metadata": {
    "id": "MmTStFHDp0b1"
   },
   "source": [
    "Define a new acquisition function\n",
    "\\begin{align*}\n",
    "\\text{ESLB}(x,\\eta) &= \\mathbb{E}_{p(y^*,y_x\\vert \\mathcal{D}_t)}\\bigg[\\log\\bigg(\\eta_0\\exp (-y^*+\\max\\{y_x,y^*_t\\})\\mathbb{1}_{y^*>\\max\\{y_x,y^*_t\\}}+\\sum_{k=1}^K\\eta_k\\exp( - y^* + h_{\\beta_k}(\\mathcal{D}_t,y_x))\\mathbb{1}_{y^*>h_{\\beta_k}(\\mathcal{D}_t,y_x)}\\bigg)\\bigg],\n",
    "\\end{align*}\n",
    "where function $h_{\\beta_k}$ has the following form\n",
    "$$h_\\beta(D_t, y_x) = \\text{mean}(D_t, y_x) + \\beta\\cdot\\text{std}(D_t, y_x).$$\n",
    "\n",
    "Previously we use $\\mu^*(\\mathcal{D}_t,y_x)$, which denotes the posterior mean conditioned on $D_t\\cup(x,y_x)$, inspired from KG. \n",
    "However, computing $\\mu^*(\\mathcal{D}_t,y_x)$ for every sample $y_x$ is unreasonably expensive since we need to conduct an optimization (to find optimal posterior mean) for every single $y_x$ sample. \n",
    "Considering the benefit of VES is the computational convenience (compare to ES/MES), we should implement a cheaper way to estimate MES result. "
   ]
  },
  {
   "cell_type": "code",
   "execution_count": 1,
   "metadata": {
    "id": "wCJibQNjp0b2"
   },
   "outputs": [],
   "source": [
    "from __future__ import annotations\n",
    "from scipy.optimize import minimize, LinearConstraint\n",
    "import numpy as np\n",
    "from torch import nn\n",
    "from typing import Any, Callable, Optional, Tuple\n",
    "from torch import Tensor,norm\n",
    "from botorch.acquisition import ExpectedImprovement,UpperConfidenceBound,qKnowledgeGradient\n",
    "import torch\n",
    "from botorch.models.model import Model\n",
    "from botorch.acquisition.acquisition import AcquisitionFunction\n",
    "from botorch.utils.transforms import (\n",
    "    concatenate_pending_points,\n",
    "    t_batch_mode_transform,\n",
    ")"
   ]
  },
  {
   "cell_type": "code",
   "execution_count": 2,
   "metadata": {
    "id": "uEXhfVw8hT2S"
   },
   "outputs": [],
   "source": [
    "from botorch.sampling.pathwise import draw_matheron_paths\n",
    "from botorch.sampling import SobolEngine\n",
    "num_optima = 100\n",
    "\n",
    "\n",
    "def optimize_posterior_samples(\n",
    "    paths,\n",
    "    x: Tensor,\n",
    "    bounds: Tensor,\n",
    "    maximize: Optional[bool] = True,\n",
    "    candidates: Optional[Tensor] = None,\n",
    "    raw_samples: Optional[int] = 2048,\n",
    "    num_restarts: Optional[int] = 10,\n",
    "    maxiter: int = 100,\n",
    "    spray_points: int = 20,\n",
    "    lr: float = 2.5e-4\n",
    ") -> Tuple[Tensor, Tensor]:\n",
    "    r\"\"\"Cheaply optimizes posterior samples by random querying followed by vanilla\n",
    "    gradient descent on the best num_restarts points.\n",
    "\n",
    "    Args:\n",
    "        paths: Tample paths from the GP which can be called via forward()\n",
    "        x: evaluation position for y_x\n",
    "        bounds: The bounds on the search space.\n",
    "        maximize: Whether or not to maximize or minimize the posterior samples.\n",
    "        candidates: A priori good candidates (typically previous design points)\n",
    "            which acts as extra initial guesses for the optimization routine.\n",
    "        raw_samples: The number of samples with which to query the samples initially.\n",
    "        num_restarts The number of gradient descent steps to use on each of the best \n",
    "        found initial points.\n",
    "        maxiter: The maximal permitted number of gradient descent steps.\n",
    "        lr: The stepsize of the gradient descent steps.\n",
    "\n",
    "    Returns:Optional\n",
    "        Tuple[Tensor, Tensor]: The optimal input-output pair(s) (X^*. f^*)\n",
    "    \"\"\"\n",
    "    candidate_set = SobolEngine(\n",
    "        dimension=bounds.shape[0], scramble=True).draw(raw_samples)\n",
    "    # TODO add spray points\n",
    "    # queries all samples on all candidates - output raw_samples * num_objectives * num_optima\n",
    "    candidate_queries = paths.forward(candidate_set)\n",
    "    num_optima = candidate_queries.shape[0]\n",
    "    batch_size = candidate_queries.shape[1] if candidate_queries.ndim == 3 else 1 \n",
    "    argtop_candidates = candidate_queries.argsort(dim=-1, descending=True)[\n",
    "        ..., 0:num_restarts]\n",
    "    \n",
    "    # These are used as masks when retrieving the argmaxes\n",
    "    row_indexer = torch.arange(num_optima * batch_size).to(torch.long)\n",
    "    X_argtop = candidate_set[argtop_candidates, :].requires_grad_(requires_grad=True)\n",
    "    for i in range(maxiter):\n",
    "        per_sample_outputs = paths.forward(X_argtop)\n",
    "        grads = torch.autograd.grad(\n",
    "            per_sample_outputs, X_argtop, grad_outputs=torch.ones_like(per_sample_outputs))[0]\n",
    "        X_argtop = torch.clamp(X_argtop + lr * grads, 0, 1)  # TODO fix bounds here\n",
    "    \n",
    "    per_sample_outputs = paths.forward(X_argtop).reshape(num_optima * batch_size, num_restarts)\n",
    "    sample_argmax = torch.max(per_sample_outputs, dim=-1, keepdims=True)[1].flatten()\n",
    "    X_argtop_flat = X_argtop.reshape(num_optima * batch_size, num_restarts, -1)\n",
    "    \n",
    "    X_max = X_argtop_flat[row_indexer, sample_argmax].reshape(num_optima, batch_size, -1)\n",
    "    f_max = per_sample_outputs.max(axis=-1).values.reshape(num_optima, batch_size, 1)\n",
    "    \n",
    "    return paths.forward(x.unsqueeze(0)), f_max.detach()"
   ]
  },
  {
   "cell_type": "code",
   "execution_count": 34,
   "metadata": {},
   "outputs": [],
   "source": [
    "def digamma(x):\n",
    "    \"Faster digamma function assumes x > 0.\"\n",
    "    r = 0\n",
    "    while (x<=5):\n",
    "        r -= 1/x\n",
    "        x += 1\n",
    "    f = 1/(x*x)\n",
    "    t = f*(-1/12.0 + f*(1/120.0 + f*(-1/252.0 + f*(1/240.0 + f*(-1/132.0\n",
    "        + f*(691/32760.0 + f*(-1/12.0 + f*3617/8160.0)))))))\n",
    "    return r + np.log(x) - 0.5/x + t"
   ]
  },
  {
   "cell_type": "code",
   "execution_count": 35,
   "metadata": {
    "id": "4-rrMZvNsHgk"
   },
   "outputs": [],
   "source": [
    "from scipy.optimize import root\n",
    "class VariationalEntropySearch(AcquisitionFunction):\n",
    "    def __init__(\n",
    "        self,\n",
    "        model: Model,\n",
    "        X_init: Tensor,\n",
    "        bounds: Tensor,\n",
    "        D_t: Tensor,\n",
    "        num_EM_iter: Optional[int] = 16\n",
    "    ) -> None:\n",
    "        super().__init__(model=model)\n",
    "        self.model = model\n",
    "        self.bounds = bounds\n",
    "        self.D_t = D_t # D_t is a tensor of y values\n",
    "        self.y_star_t = D_t.max()\n",
    "        self.k = None\n",
    "        self.beta = None\n",
    "        self.x = nn.Parameter(X_init, requires_grad=True)\n",
    "        \n",
    "    def forward(self,EM_iter_num=64):\n",
    "        for _ in range(EM_iter_num):\n",
    "            self.expectation_step()\n",
    "            print('Finish E iteration ',_)\n",
    "            print(self.k, self.beta)\n",
    "            old_x = self.x.detach()\n",
    "            self.maximization_step()\n",
    "            if torch.norm(self.x.detach() - old_x) < 1e-8:\n",
    "                break\n",
    "            print('Finish EM iteration ',_)\n",
    "            print(self.x.detach().numpy())\n",
    "\n",
    "    def sample(self, N: int): # it computes N samples from current posterior and returns two vector tensors: y_star and y_x based on given x\n",
    "        r\"\"\"Return a tuple of tensors containing joint samples y_star and y_x.\n",
    "\n",
    "            Args:\n",
    "                N: number of path samples\n",
    "\n",
    "            Returns:\n",
    "                Tensor: A `N` tensor y_star and a `N` tensor y_x\n",
    "            \"\"\"\n",
    "\n",
    "        paths = draw_matheron_paths(self.model, sample_shape=torch.Size([N]))\n",
    "        y_x, y_star = optimize_posterior_samples(paths, self.x, bounds=self.bounds) \n",
    "\n",
    "        return y_star.squeeze(), y_x.squeeze()\n",
    "    \n",
    "    def gen_yStar_max(self, N=1000):\n",
    "        \"\"\"\n",
    "        Generate N y_start minus max y_x D_t values\n",
    "        \"\"\"\n",
    "        y_star, y_x = self.sample(N)\n",
    "        return torch.max(y_star, torch.max(y_x, self.y_star_t))\n",
    "            \n",
    "    def expectation_step(self, N=1000): # update eta to maximize eslb\n",
    "        r\"\"\"The expectation step updates values of etas by solving a convex(?) constrained optimization\n",
    "\n",
    "            Args:\n",
    "                N: the number of y_x, y_star samples for estimating the expectation\n",
    "\n",
    "            Returns:\n",
    "                eta: updated eta\n",
    "            \"\"\"\n",
    "        y_star_max = self.gen_yStar_max(N)\n",
    "        exp_log_term = torch.log(y_star_max.detach().mean()).item()\n",
    "        log_exp_term = torch.mean(y_star_max.detach().log()).item()\n",
    "\n",
    "        root_func = lambda eta: np.log(eta) - digamma(eta) + exp_log_term - log_exp_term\n",
    "\n",
    "        self.k = root(root_func, 1.0, method='hybr').x[0]\n",
    "        self.beta = self.k / y_star_max.detach().mean().item()\n",
    "            \n",
    "    def maximization_step(self, epochs=50, batch_size=16, return_losses=False): # optimizing x should apply re-parameterization trick\n",
    "        r\"\"\"The maximization step updates x using backpropagation based on current eta\n",
    "            Args:\n",
    "                epochs: iteration number for the optimization\n",
    "                batch_size: size of y_x, y_star for each epoch\n",
    "                return_loss: return loss if True\n",
    "\n",
    "            Returns:\n",
    "                x: updated x\n",
    "            \"\"\"\n",
    "        opt = torch.optim.Adam(self.parameters(), lr=1e-3, betas= (0.9, 0.99))\n",
    "        losses = []\n",
    "        for _ in range(epochs):\n",
    "            opt.zero_grad()\n",
    "            y_star_max = self.gen_yStar_max(N=batch_size)\n",
    "\n",
    "            loss = - (self.k - 1)*y_star_max.log().mean() \n",
    "            - self.beta * y_star_max.mean()\n",
    "\n",
    "            loss.backward()\n",
    "            opt.step()\n",
    "            losses.append(np.copy(loss.detach().numpy()))\n",
    "            with torch.no_grad():\n",
    "                for i in range(len(self.x)):\n",
    "                    self.x[i].clamp_(self.bounds[0, i], self.bounds[1, i])\n",
    "        if return_losses:\n",
    "            return losses\n",
    "        return"
   ]
  },
  {
   "cell_type": "markdown",
   "metadata": {
    "id": "LImGpGhp_-Vb"
   },
   "source": [
    "Problem I met so far:\n",
    "\n",
    "\n",
    "1.   The expectation step does not update eta: eta is fixed to be [1, 0, 0, 0]\n",
    "2.   NanError: cholesky_cpu: 25 of 25 elements of the torch.Size([5, 5]) tensor are NaN sometimes pops up;\n",
    "\n",
    "\n",
    "\n"
   ]
  },
  {
   "cell_type": "markdown",
   "metadata": {
    "id": "5vD0NZG8lT08"
   },
   "source": [
    "## Experiment"
   ]
  },
  {
   "cell_type": "code",
   "execution_count": 25,
   "metadata": {
    "id": "5W4gYgdN1-Mn"
   },
   "outputs": [],
   "source": [
    "from botorch.models import SingleTaskGP\n",
    "from botorch.fit import fit_gpytorch_mll\n",
    "from botorch.utils import standardize\n",
    "from gpytorch.mlls import ExactMarginalLogLikelihood\n",
    "from botorch.acquisition import UpperConfidenceBound\n",
    "from botorch.optim import optimize_acqf"
   ]
  },
  {
   "cell_type": "code",
   "execution_count": 26,
   "metadata": {
    "colab": {
     "base_uri": "https://localhost:8080/",
     "height": 269
    },
    "id": "KfZQlXvd1_y5",
    "outputId": "4eb63cee-38cf-4585-ce78-d1a81cea7685"
   },
   "outputs": [
    {
     "data": {
      "image/png": "[encoded data removed]",
      "text/plain": [
       "<Figure size 432x288 with 2 Axes>"
      ]
     },
     "metadata": {
      "needs_background": "light"
     },
     "output_type": "display_data"
    }
   ],
   "source": [
    "### test VES \n",
    "## design training data\n",
    "train_X = 2*torch.rand(5, 2, dtype=torch.double)-1.0\n",
    "def f(X,noise=0.0):\n",
    "    return 1 - (X - 0.5).norm(dim=-1, keepdim=True)\n",
    "train_Y = f(train_X,noise=0.1)\n",
    "bounds = torch.stack([torch.zeros(2)-2, 2*torch.ones(2)]).to(torch.double)\n",
    "num_samples = 128\n",
    "num_iter = 2\n",
    "\n",
    "# plot function f\n",
    "import matplotlib.pyplot as plt\n",
    "nx,ny = 101,101\n",
    "X1,X2 = torch.linspace(bounds[0,0],bounds[1,0],nx),torch.linspace(bounds[0,1],bounds[1,1],ny)\n",
    "Xx,Xy = torch.meshgrid(X1,X2)\n",
    "f_input = torch.vstack((Xx.flatten(),Xy.flatten())).T\n",
    "Yz = f(f_input).reshape(nx,ny)\n",
    "\n",
    "plt.contourf(Xx,Xy,Yz,25)\n",
    "plt.colorbar()\n",
    "plt.plot(train_X[:,0],train_X[:,1],'kx',mew=3)\n",
    "plt.show()"
   ]
  },
  {
   "cell_type": "code",
   "execution_count": 36,
   "metadata": {
    "colab": {
     "base_uri": "https://localhost:8080/"
    },
    "id": "MfvKK3C12CHF",
    "outputId": "d8ec1f0c-89e4-4aa6-ea83-a36e48eed817"
   },
   "outputs": [
    {
     "name": "stderr",
     "output_type": "stream",
     "text": [
      "/Users/nokicheng/opt/anaconda3/lib/python3.8/site-packages/botorch/models/utils/assorted.py:173: InputDataWarning: Input data is not contained to the unit cube. Please consider min-max scaling the input data.\n",
      "  warnings.warn(msg, InputDataWarning)\n",
      "/Users/nokicheng/opt/anaconda3/lib/python3.8/site-packages/botorch/models/utils/assorted.py:201: InputDataWarning: Input data is not standardized. Please consider scaling the input to zero mean and unit variance.\n",
      "  warnings.warn(msg, InputDataWarning)\n"
     ]
    },
    {
     "name": "stdout",
     "output_type": "stream",
     "text": [
      "tensor([[0.5531, 0.4754]], dtype=torch.float64) 0.9414878956871727\n",
      "None None\n",
      "40177117.8142145 36897263.42396967\n",
      "[0.1 0.1]\n",
      "Parameter containing:\n",
      "tensor([0.1000, 0.1000], dtype=torch.float64, requires_grad=True) 0.4343145771581044\n"
     ]
    }
   ],
   "source": [
    "gp = SingleTaskGP(train_X, train_Y) # gp model\n",
    "mll = ExactMarginalLogLikelihood(gp.likelihood, gp) # mll object\n",
    "fit_gpytorch_mll(mll) # fit mll hyperpara\n",
    "\n",
    "ei = ExpectedImprovement(gp,best_f=train_Y.max())\n",
    "kg = qKnowledgeGradient(gp,num_fantasies=128)\n",
    "ucb = UpperConfidenceBound(gp,beta=1.0)\n",
    "ves = VariationalEntropySearch(\n",
    "    model = gp, \n",
    "    X_init = Tensor([0.1, 0.1]).type(torch.double), \n",
    "    bounds = Tensor([[-2, -2], [2, 2]]).type(torch.double), \n",
    "    D_t = train_Y.squeeze())\n",
    "\n",
    "## optimize acqf\n",
    "# ei\n",
    "ei_candidate, _ = optimize_acqf(\n",
    "  ei, bounds=bounds, q=1, num_restarts=5, raw_samples=20,\n",
    ")\n",
    "ei_x,ei_y = ei_candidate,f(ei_candidate)\n",
    "print(ei_x,ei_y.item())\n",
    "\n",
    "# # kg\n",
    "# kg_candidate, _ =optimize_acqf(\n",
    "#   kg, bounds=bounds, q=1, num_restarts=5, raw_samples=20,\n",
    "# )\n",
    "# kg_x,kg_y = kg_candidate,f(kg_candidate)\n",
    "# print(kg_x,kg_y.item())\n",
    "\n",
    "# # ucb\n",
    "# ucb_candidate, _ =optimize_acqf(\n",
    "#   ucb, bounds=bounds, q=1, num_restarts=5, raw_samples=20,\n",
    "# )\n",
    "# ucb_x,ucb_y = ucb_candidate,f(ucb_candidate)\n",
    "# print(ucb_x,ucb_y.item())\n",
    "\n",
    "# ves\n",
    "print(ves.k, ves.beta)\n",
    "ves.expectation_step()\n",
    "print(ves.k,ves.beta)\n",
    "print(ves.x.detach().numpy())\n",
    "losses = ves.maximization_step(return_losses=True)\n",
    "# ves(EM_iter_num=4)\n",
    "ves_x,ves_y = ves.x,f(ves.x)\n",
    "print(ves_x,ves_y.item())"
   ]
  },
  {
   "cell_type": "code",
   "execution_count": 37,
   "metadata": {},
   "outputs": [
    {
     "data": {
      "text/plain": [
       "[array(-3065542.12240937),\n",
       " array(966475.83993714),\n",
       " array(-2182917.02920521),\n",
       " array(-3420470.36378092),\n",
       " array(-321320.11849698),\n",
       " array(-1027686.34921876),\n",
       " array(-2544482.60610384),\n",
       " array(-618025.89387914),\n",
       " array(-3013455.0784682),\n",
       " array(-737309.48625523),\n",
       " array(-4493653.07523803),\n",
       " array(-4587229.48290766),\n",
       " array(-1005731.11710113),\n",
       " array(1356914.04935604),\n",
       " array(-725518.98265133),\n",
       " array(-4219816.81402636),\n",
       " array(-3334727.01340421),\n",
       " array(-3271619.47901109),\n",
       " array(-3922772.57643705),\n",
       " array(-2682830.03887467),\n",
       " array(-822499.64912358),\n",
       " array(-606455.74903003),\n",
       " array(-3440546.19904743),\n",
       " array(-4712637.11190243),\n",
       " array(-682505.49426543),\n",
       " array(-3278327.96694938),\n",
       " array(-3084152.91794199),\n",
       " array(-2628377.21698496),\n",
       " array(-2785846.20506256),\n",
       " array(711028.99277015),\n",
       " array(-1775849.96790264),\n",
       " array(-1825888.37298764),\n",
       " array(-179343.29449432),\n",
       " array(-2402640.78663748),\n",
       " array(-5045152.82235462),\n",
       " array(2193312.63738857),\n",
       " array(1217812.37788818),\n",
       " array(-1935016.76961988),\n",
       " array(-492260.2614114),\n",
       " array(1124222.14152117),\n",
       " array(-1317449.5545732),\n",
       " array(-4875973.84207749),\n",
       " array(-2062510.2506878),\n",
       " array(-4017325.42220713),\n",
       " array(-1417001.91174394),\n",
       " array(-715428.95882759),\n",
       " array(2213826.63070124),\n",
       " array(-1278231.56038036),\n",
       " array(-1153477.34011575),\n",
       " array(176583.98188901)]"
      ]
     },
     "execution_count": 37,
     "metadata": {},
     "output_type": "execute_result"
    }
   ],
   "source": [
    "losses"
   ]
  },
  {
   "cell_type": "markdown",
   "metadata": {},
   "source": [
    "To show the intuition behind, suppose we fix the value of x"
   ]
  },
  {
   "cell_type": "code",
   "execution_count": 28,
   "metadata": {},
   "outputs": [
    {
     "data": {
      "text/plain": [
       "Text(0.5, 1.0, '$p(y^*|D)$')"
      ]
     },
     "execution_count": 28,
     "metadata": {},
     "output_type": "execute_result"
    },
    {
     "data": {
      "image/png": "[encoded data removed]",
      "text/plain": [
       "<Figure size 432x288 with 1 Axes>"
      ]
     },
     "metadata": {
      "needs_background": "light"
     },
     "output_type": "display_data"
    }
   ],
   "source": [
    "from sklearn.neighbors import KernelDensity\n",
    "# sample y_star \n",
    "N = 1000\n",
    "y_star, _ = ves.sample(N)\n",
    "y_star = y_star.detach().numpy()\n",
    "kde = KernelDensity(kernel=\"cosine\", bandwidth=N**(-0.2)).fit(y_star[:,None])\n",
    "Y = np.linspace(-1,2,400)[:,None]\n",
    "y_log_dens = kde.score_samples(Y)\n",
    "\n",
    "# plot y_star\n",
    "plt.plot(Y,np.exp(y_log_dens),c='k')#, fc=\"black\", alpha=0.2)\n",
    "plt.plot(y_star, -0.005 - 0.01 * np.random.random(y_star.shape), \"+k\")\n",
    "plt.title(r'$p(y^*|D)$')"
   ]
  },
  {
   "cell_type": "code",
   "execution_count": 29,
   "metadata": {},
   "outputs": [
    {
     "ename": "AttributeError",
     "evalue": "'VariationalEntropySearch' object has no attribute 'beta_lst'",
     "output_type": "error",
     "traceback": [
      "\u001b[0;31m---------------------------------------------------------------------------\u001b[0m",
      "\u001b[0;31mAttributeError\u001b[0m                            Traceback (most recent call last)",
      "\u001b[0;32m<ipython-input-29-97e8e9f03657>\u001b[0m in \u001b[0;36m<module>\u001b[0;34m\u001b[0m\n\u001b[1;32m      2\u001b[0m \u001b[0mmean\u001b[0m \u001b[0;34m=\u001b[0m \u001b[0mtorch\u001b[0m\u001b[0;34m.\u001b[0m\u001b[0mmean\u001b[0m\u001b[0;34m(\u001b[0m\u001b[0mnew_Dt\u001b[0m\u001b[0;34m)\u001b[0m\u001b[0;34m\u001b[0m\u001b[0;34m\u001b[0m\u001b[0m\n\u001b[1;32m      3\u001b[0m \u001b[0mstd\u001b[0m \u001b[0;34m=\u001b[0m \u001b[0mtorch\u001b[0m\u001b[0;34m.\u001b[0m\u001b[0mstd\u001b[0m\u001b[0;34m(\u001b[0m\u001b[0mnew_Dt\u001b[0m\u001b[0;34m)\u001b[0m\u001b[0;34m\u001b[0m\u001b[0;34m\u001b[0m\u001b[0m\n\u001b[0;32m----> 4\u001b[0;31m \u001b[0mmean\u001b[0m \u001b[0;34m+\u001b[0m \u001b[0mves\u001b[0m\u001b[0;34m.\u001b[0m\u001b[0mbeta_lst\u001b[0m \u001b[0;34m*\u001b[0m \u001b[0mstd\u001b[0m\u001b[0;34m\u001b[0m\u001b[0;34m\u001b[0m\u001b[0m\n\u001b[0m",
      "\u001b[0;32m~/opt/anaconda3/lib/python3.8/site-packages/torch/nn/modules/module.py\u001b[0m in \u001b[0;36m__getattr__\u001b[0;34m(self, name)\u001b[0m\n\u001b[1;32m   1263\u001b[0m             \u001b[0;32mif\u001b[0m \u001b[0mname\u001b[0m \u001b[0;32min\u001b[0m \u001b[0mmodules\u001b[0m\u001b[0;34m:\u001b[0m\u001b[0;34m\u001b[0m\u001b[0;34m\u001b[0m\u001b[0m\n\u001b[1;32m   1264\u001b[0m                 \u001b[0;32mreturn\u001b[0m \u001b[0mmodules\u001b[0m\u001b[0;34m[\u001b[0m\u001b[0mname\u001b[0m\u001b[0;34m]\u001b[0m\u001b[0;34m\u001b[0m\u001b[0;34m\u001b[0m\u001b[0m\n\u001b[0;32m-> 1265\u001b[0;31m         raise AttributeError(\"'{}' object has no attribute '{}'\".format(\n\u001b[0m\u001b[1;32m   1266\u001b[0m             type(self).__name__, name))\n\u001b[1;32m   1267\u001b[0m \u001b[0;34m\u001b[0m\u001b[0m\n",
      "\u001b[0;31mAttributeError\u001b[0m: 'VariationalEntropySearch' object has no attribute 'beta_lst'"
     ]
    }
   ],
   "source": [
    "new_Dt = ves.D_t\n",
    "mean = torch.mean(new_Dt)\n",
    "std = torch.std(new_Dt)\n",
    "mean + ves.beta_lst * std"
   ]
  },
  {
   "cell_type": "code",
   "execution_count": null,
   "metadata": {},
   "outputs": [
    {
     "name": "stdout",
     "output_type": "stream",
     "text": [
      "-389.8740329990811\n",
      "[0. 1. 0. 0.]\n"
     ]
    }
   ],
   "source": [
    "eta = np.eye(4)[1]\n",
    "def exp_den(beta_lst, x):\n",
    "    res = []\n",
    "    for beta in beta_lst:\n",
    "        if x < beta:\n",
    "            res.append(0)\n",
    "        else:\n",
    "            res.append(np.exp(-x+beta))\n",
    "    return np.array(res)\n",
    "def eslb(eta, best_f, lb, y_star):\n",
    "    elem = [best_f, *lb]\n",
    "    return sum([diy_log(np.inner(eta, exp_den(elem, y))) for y in y_star])\n",
    "\n",
    "def diy_log(l):\n",
    "    if l <= 0:\n",
    "        return 0\n",
    "    else:\n",
    "        return np.log(l)\n",
    "\n",
    "lb = mean + ves.beta_lst * std\n",
    "best_f = max(new_Dt)\n",
    "print(eslb(eta, best_f, lb, y_star))\n",
    "print(eta)"
   ]
  },
  {
   "cell_type": "code",
   "execution_count": null,
   "metadata": {},
   "outputs": [
    {
     "data": {
      "text/plain": [
       "array([0., 1., 0., 0.])"
      ]
     },
     "execution_count": 62,
     "metadata": {},
     "output_type": "execute_result"
    }
   ],
   "source": [
    "K = 4\n",
    "cnst_eq_A = np.expand_dims(np.ones(K), axis=0) # equality constraint\n",
    "cnst_ineq_A = np.eye(K) # inequality constraint\n",
    "\n",
    "def f(eta):\n",
    "    return -eslb(eta, best_f, lb, y_star)\n",
    "\n",
    "cnst_eq = LinearConstraint(cnst_eq_A, np.array([1]), np.array([1]))\n",
    "cnst_ineq = LinearConstraint(cnst_ineq_A, np.zeros(K), np.ones(K))\n",
    "res = minimize(f, eta, constraints=[cnst_eq, cnst_ineq])\n",
    "res.x"
   ]
  },
  {
   "cell_type": "code",
   "execution_count": null,
   "metadata": {},
   "outputs": [
    {
     "data": {
      "text/plain": [
       "[405.32301222682605, 389.8740329990811, 139.75264200921205, 22.827619928910472]"
      ]
     },
     "execution_count": 65,
     "metadata": {},
     "output_type": "execute_result"
    }
   ],
   "source": [
    "[f(np.eye(4)[i]) for i in range(4)]"
   ]
  },
  {
   "cell_type": "code",
   "execution_count": null,
   "metadata": {},
   "outputs": [
    {
     "data": {
      "text/plain": [
       "[<matplotlib.lines.Line2D at 0x7fdb50992d00>]"
      ]
     },
     "execution_count": 63,
     "metadata": {},
     "output_type": "execute_result"
    },
    {
     "data": {
      "image/png": "[encoded data removed]",
      "text/plain": [
       "<Figure size 432x288 with 1 Axes>"
      ]
     },
     "metadata": {
      "needs_background": "light"
     },
     "output_type": "display_data"
    }
   ],
   "source": [
    "y_den = [np.inner(eta, exp_den([best_f, *lb], y[0])) for y in Y]\n",
    "plt.plot(Y,y_den,c='r')\n",
    "plt.plot(Y,np.exp(y_log_dens),c='k')"
   ]
  },
  {
   "cell_type": "markdown",
   "metadata": {
    "id": "5xOU3UwNA7sp"
   },
   "source": [
    "## Archived code"
   ]
  },
  {
   "cell_type": "code",
   "execution_count": null,
   "metadata": {
    "id": "Q4FR99CG3-1f"
   },
   "outputs": [],
   "source": [
    "from botorch.sampling.pathwise import draw_matheron_paths\n",
    "num_optima = 100\n",
    "\n",
    "\n",
    "def optimize_posterior_samples(\n",
    "    paths: SamplePath,\n",
    "    bounds: Tensor,\n",
    "    maximize: Optional[bool] = True,\n",
    "    candidates: Optional[Tensor] = None,\n",
    "    raw_samples: Optional[int] = 2048,\n",
    "    num_restarts: Optional[int] = 10,\n",
    "    maxiter: int = 100,\n",
    "    spray_points: int = 20,\n",
    "    lr: float = 2.5e-4\n",
    ") -> Tuple[Tensor, Tensor]:\n",
    "    r\"\"\"Cheaply optimizes posterior samples by random querying followed by vanilla\n",
    "    gradient descent on the best num_restarts points.\n",
    "\n",
    "    Args:\n",
    "        paths: Tample paths from the GP which can be called via forward()\n",
    "        bounds: The bounds on the search space.\n",
    "        maximize: Whether or not to maximize or minimize the posterior samples.\n",
    "        candidates: A priori good candidates (typically previous design points)\n",
    "            which acts as extra initial guesses for the optimization routine.\n",
    "        raw_samples: The number of samples with which to query the samples initially.\n",
    "        num_restarts The number of gradient descent steps to use on each of the best \n",
    "        found initial points.\n",
    "        maxiter: The maximal permitted number of gradient descent steps.\n",
    "        lr: The stepsize of the gradient descent steps.\n",
    "\n",
    "    Returns:Optional\n",
    "        Tuple[Tensor, Tensor]: The optimal input-output pair(s) (X^*. f^*)\n",
    "    \"\"\"\n",
    "    candidate_set = SobolEngine(\n",
    "        dimension=bounds.shape[0], scramble=True).draw(raw_samples)\n",
    "    # TODO add spray points\n",
    "    # queries all samples on all candidates - output raw_samples * num_objectives * num_optima\n",
    "    candidate_queries = paths.forward(candidate_set)\n",
    "    num_optima = candidate_queries.shape[0]\n",
    "    batch_size = candidate_queries.shape[1] if candidate_queries.ndim == 3 else 1 \n",
    "    argtop_candidates = candidate_queries.argsort(dim=-1, descending=True)[\n",
    "        ..., 0:num_restarts]\n",
    "    \n",
    "    # These are used as masks when retrieving the argmaxes\n",
    "    row_indexer = torch.arange(num_optima * batch_size).to(torch.long)\n",
    "    X_argtop = candidate_set[argtop_candidates, :].requires_grad_(requires_grad=True)\n",
    "    for i in range(maxiter):\n",
    "        per_sample_outputs = paths.forward(X_argtop)\n",
    "        grads = torch.autograd.grad(\n",
    "            per_sample_outputs, X_argtop, grad_outputs=torch.ones_like(per_sample_outputs))[0]\n",
    "        X_argtop = torch.clamp(X_argtop + lr * grads, 0, 1)  # TODO fix bounds here\n",
    "    \n",
    "    per_sample_outputs = paths.forward(X_argtop).reshape(num_optima * batch_size, num_restarts)\n",
    "    sample_argmax = torch.max(per_sample_outputs, dim=-1, keepdims=True)[1].flatten()\n",
    "    X_argtop_flat = X_argtop.reshape(num_optima * batch_size, num_restarts, -1)\n",
    "    \n",
    "    X_max = X_argtop_flat[row_indexer, sample_argmax].reshape(num_optima, batch_size, -1)\n",
    "    f_max = per_sample_outputs.max(axis=-1).values.reshape(num_optima, batch_size, 1)\n",
    "    \n",
    "    return X_max.detach(), f_max.detach()\n",
    "\n",
    "\n",
    "paths = draw_matheron_paths(model, sample_shape=torch.Size([num_optima]))\n",
    "\n",
    "optimal_inputs, optimal_outputs = optimize_posterior_samples(paths, bounds=Tensor(bounds))"
   ]
  }
 ],
 "metadata": {
  "colab": {
   "provenance": []
  },
  "kernelspec": {
   "display_name": "Python 3",
   "language": "python",
   "name": "python3"
  },
  "language_info": {
   "codemirror_mode": {
    "name": "ipython",
    "version": 3
   },
   "file_extension": ".py",
   "mimetype": "text/x-python",
   "name": "python",
   "nbconvert_exporter": "python",
   "pygments_lexer": "ipython3",
   "version": "3.8.5"
  }
 },
 "nbformat": 4,
 "nbformat_minor": 1
}
