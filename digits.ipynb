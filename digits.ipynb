{
 "cells": [
  {
   "cell_type": "code",
   "execution_count": 34,
   "metadata": {},
   "outputs": [],
   "source": [
    "from ves import *\n",
    "import matplotlib.pyplot as plt\n",
    "import numpy as np\n",
    "import torch\n",
    "from sklearn.datasets import load_digits\n",
    "from sklearn.model_selection import RandomizedSearchCV, cross_val_score\n",
    "\n",
    "from scipy.stats import uniform\n",
    "from xgboost import XGBClassifier"
   ]
  },
  {
   "cell_type": "code",
   "execution_count": 35,
   "metadata": {},
   "outputs": [
    {
     "data": {
      "text/plain": [
       "0.9182079851439184"
      ]
     },
     "execution_count": 35,
     "metadata": {},
     "output_type": "execute_result"
    }
   ],
   "source": [
    "# Load the diabetes dataset (for regression)\n",
    "Xd, Yd = load_digits(return_X_y=True)\n",
    "\n",
    "# Instantiate an XGBRegressor with default hyperparameter settings\n",
    "xgb = XGBClassifier()\n",
    "\n",
    "# and compute a baseline to beat with hyperparameter optimization \n",
    "baseline = cross_val_score(xgb, Xd, Yd, scoring='accuracy').mean()\n",
    "\n",
    "baseline"
   ]
  },
  {
   "cell_type": "code",
   "execution_count": 36,
   "metadata": {},
   "outputs": [],
   "source": [
    "# Global parameters\n",
    "BOUNDS = torch.zeros(2,2)\n",
    "BOUNDS[:, 1] = torch.ones(2)\n",
    "NUM_INIT = 2\n",
    "NUM_TRIALS = 10\n",
    "NUM_ITER = 100\n",
    "NUM_PATHS = 64\n",
    "# 2D discretization parameters\n",
    "nx = 101\n",
    "ny = 101"
   ]
  },
  {
   "cell_type": "code",
   "execution_count": 37,
   "metadata": {},
   "outputs": [],
   "source": [
    "def f_dp(X):\n",
    "    if isinstance(X, tuple):\n",
    "        x,y = X\n",
    "    elif X.ndim != 2:\n",
    "        x,y = X[0],X[1]\n",
    "    else:\n",
    "        x,y = X[:,0],X[:,1]\n",
    "    y = 5 * y\n",
    "    n = len(x)\n",
    "    ans = torch.zeros(n, dtype=torch.double)\n",
    "    for i in range(n):\n",
    "        ans[i] = cv_bh((x[i].item(), y[i].item(), 10, 50, 5))\n",
    "    return ans\n",
    "\n",
    "def cv_bh(parameters):\n",
    "    xgb = XGBClassifier(learning_rate=parameters[0],\n",
    "                        gamma=parameters[1],\n",
    "                        max_depth=int(parameters[2]),\n",
    "                        n_estimators=int(parameters[3]),\n",
    "                        min_child_weight = parameters[4])\n",
    "    score = cross_val_score(xgb, Xd, Yd, scoring='accuracy').mean()\n",
    "    return torch.tensor(score)"
   ]
  },
  {
   "cell_type": "code",
   "execution_count": 38,
   "metadata": {},
   "outputs": [
    {
     "name": "stdout",
     "output_type": "stream",
     "text": [
      "Maximizer is  tensor([0.3800, 0.0200]) with value  1.0\n"
     ]
    },
    {
     "data": {
      "image/png": "[encoded data removed]",
      "text/plain": [
       "<Figure size 432x288 with 2 Axes>"
      ]
     },
     "metadata": {
      "needs_background": "light"
     },
     "output_type": "display_data"
    }
   ],
   "source": [
    "# plot function f_sn\n",
    "X1,X2 = torch.linspace(BOUNDS[0,0], BOUNDS[0,1], nx),torch.linspace(BOUNDS[1,0], BOUNDS[1,1], ny)\n",
    "Xx,Xy = torch.meshgrid(X1, X2)\n",
    "X = torch.vstack((Xx.flatten(), Xy.flatten())).T\n",
    "Y = f_dp(X)\n",
    "max_id = torch.argmax(Y)\n",
    "max_Y = torch.tensor(1.0)\n",
    "plt.plot(X[max_id, 0], X[max_id, 1], 'kx', mew=3, c='tab:red')\n",
    "plt.contourf(Xx, Xy, Y.reshape(nx, ny), 25)\n",
    "plt.colorbar()\n",
    "print('Maximizer is ',X[max_id], 'with value ', max_Y.item())"
   ]
  },
  {
   "cell_type": "code",
   "execution_count": 39,
   "metadata": {},
   "outputs": [
    {
     "name": "stderr",
     "output_type": "stream",
     "text": [
      " 10%|█         | 1/10 [12:40<1:54:08, 760.96s/it]/Users/nokicheng/opt/anaconda3/lib/python3.8/site-packages/botorch/models/utils/assorted.py:201: InputDataWarning: Input data is not standardized. Please consider scaling the input to zero mean and unit variance.\n",
      "  warnings.warn(msg, InputDataWarning)\n",
      "/Users/nokicheng/opt/anaconda3/lib/python3.8/site-packages/botorch/models/utils/assorted.py:201: InputDataWarning: Input data is not standardized. Please consider scaling the input to zero mean and unit variance.\n",
      "  warnings.warn(msg, InputDataWarning)\n",
      "/Users/nokicheng/opt/anaconda3/lib/python3.8/site-packages/botorch/models/utils/assorted.py:201: InputDataWarning: Input data is not standardized. Please consider scaling the input to zero mean and unit variance.\n",
      "  warnings.warn(msg, InputDataWarning)\n",
      " 50%|█████     | 5/10 [1:28:08<1:26:09, 1033.88s/it]/Users/nokicheng/opt/anaconda3/lib/python3.8/site-packages/linear_operator/utils/cholesky.py:40: NumericalWarning: A not p.d., added jitter of 1.0e-08 to the diagonal\n",
      "  warnings.warn(\n",
      "/Users/nokicheng/opt/anaconda3/lib/python3.8/site-packages/linear_operator/utils/cholesky.py:40: NumericalWarning: A not p.d., added jitter of 1.0e-07 to the diagonal\n",
      "  warnings.warn(\n",
      "/Users/nokicheng/opt/anaconda3/lib/python3.8/site-packages/linear_operator/utils/cholesky.py:40: NumericalWarning: A not p.d., added jitter of 1.0e-06 to the diagonal\n",
      "  warnings.warn(\n",
      "/Users/nokicheng/opt/anaconda3/lib/python3.8/site-packages/linear_operator/utils/cholesky.py:40: NumericalWarning: A not p.d., added jitter of 1.0e-05 to the diagonal\n",
      "  warnings.warn(\n",
      "/Users/nokicheng/opt/anaconda3/lib/python3.8/site-packages/linear_operator/utils/cholesky.py:40: NumericalWarning: A not p.d., added jitter of 1.0e-04 to the diagonal\n",
      "  warnings.warn(\n",
      "/Users/nokicheng/opt/anaconda3/lib/python3.8/site-packages/linear_operator/utils/cholesky.py:40: NumericalWarning: A not p.d., added jitter of 1.0e-03 to the diagonal\n",
      "  warnings.warn(\n",
      "100%|██████████| 10/10 [3:27:34<00:00, 1245.47s/it] \n"
     ]
    }
   ],
   "source": [
    "ves_dp, ei_dp, mes_dp = run_2d_experiment(f_dp,\n",
    "                                  bounds=BOUNDS,\n",
    "                                  num_init=NUM_INIT,\n",
    "                                  num_trials=NUM_TRIALS,\n",
    "                                  num_iter=NUM_ITER,\n",
    "                                  num_paths=NUM_PATHS,\n",
    "                                  nx=nx,\n",
    "                                  ny=ny)\n",
    "ves_dp, ei_dp, mes_dp = np.log(max_Y - ves_dp), np.log(max_Y - ei_dp), np.log(max_Y - mes_dp)\n",
    "ves_dp_mean, ei_dp_mean, mes_dp_mean = ves_dp.mean(axis=0), ei_dp.mean(axis=0), mes_dp.mean(axis=0)\n",
    "ves_dp_std, ei_dp_std, mes_dp_std = ves_dp.std(axis=0), ei_dp.std(axis=0), mes_dp.std(axis=0)"
   ]
  },
  {
   "cell_type": "code",
   "execution_count": 40,
   "metadata": {},
   "outputs": [],
   "source": [
    "ves_dp[ves_dp == -np.inf] = -16.0\n",
    "ei_dp[torch.isnan(ei_dp)] = -16.0\n",
    "mes_dp[torch.isnan(mes_dp)] = -16.0\n",
    "ves_dp_mean, ei_dp_mean, mes_dp_mean = np.nanmean(ves_dp.detach().numpy(), axis=0), np.nanmean(ei_dp.detach().numpy(), axis=0), np.nanmean(mes_dp.detach().numpy(), axis=0)\n",
    "ves_dp_std, ei_dp_std, mes_dp_std = np.nanstd(ves_dp.detach().numpy(), axis=0), np.nanstd(ei_dp.detach().numpy(), axis=0), np.nanstd(mes_dp.detach().numpy(), axis=0)"
   ]
  },
  {
   "cell_type": "code",
   "execution_count": 42,
   "metadata": {},
   "outputs": [
    {
     "data": {
      "image/png": "[encoded data removed]",
      "text/plain": [
       "<Figure size 432x288 with 1 Axes>"
      ]
     },
     "metadata": {
      "needs_background": "light"
     },
     "output_type": "display_data"
    }
   ],
   "source": [
    "fig, axs = plt.subplots(figsize=(6,4))\n",
    "ei_mean, ei_std, ves_mean, ves_std, mes_mean, mes_std = ei_dp_mean, ei_dp_std, ves_dp_mean, ves_dp_std, mes_dp_mean, mes_dp_std\n",
    "std_cont = 0.1\n",
    "axs.plot(np.arange(len(ves_mean))+NUM_INIT, ei_mean, label='EI', c='tab:blue')\n",
    "axs.fill_between(np.arange(len(ei_mean))+NUM_INIT, ei_mean-std_cont*ei_std, ei_mean+std_cont*ei_std, color='tab:blue', alpha=0.2)\n",
    "axs.plot(np.arange(len(ves_mean))+NUM_INIT, ves_mean, label='VES-Gamma', c='tab:red')\n",
    "axs.fill_between(np.arange(len(ves_mean))+NUM_INIT, ves_mean-std_cont*ves_std, ves_mean+std_cont*ves_std, color='tab:red', alpha=0.2)\n",
    "axs.plot(np.arange(len(mes_mean))+NUM_INIT, mes_mean, label='MES', c='tab:green')\n",
    "axs.fill_between(np.arange(len(mes_mean))+NUM_INIT, mes_mean-std_cont*mes_std, mes_mean+std_cont*mes_std, color='tab:green', alpha=0.2)\n",
    "axs.legend()\n",
    "axs.set_xlabel(r'Function Evaluations $t$', fontsize=12)\n",
    "axs.set_ylabel(r'Log Regret $r_t$', fontsize=12)\n",
    "axs.set_title('Digits', fontsize=16)\n",
    "# axs.set_xlim([2, 45])\n",
    "fig.savefig('digits.pdf', dpi=300, bbox_inches='tight')"
   ]
  }
 ],
 "metadata": {
  "kernelspec": {
   "display_name": "base",
   "language": "python",
   "name": "python3"
  },
  "language_info": {
   "codemirror_mode": {
    "name": "ipython",
    "version": 3
   },
   "file_extension": ".py",
   "mimetype": "text/x-python",
   "name": "python",
   "nbconvert_exporter": "python",
   "pygments_lexer": "ipython3",
   "version": "3.8.5"
  },
  "orig_nbformat": 4
 },
 "nbformat": 4,
 "nbformat_minor": 2
}
